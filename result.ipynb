{
 "cells": [
  {
   "cell_type": "markdown",
   "metadata": {},
   "source": [
    "# Librerias"
   ]
  },
  {
   "cell_type": "code",
   "execution_count": 3,
   "metadata": {},
   "outputs": [],
   "source": [
    "import numpy as np\n",
    "import pandas as pd\n",
    "import glob\n",
    "import os"
   ]
  },
  {
   "cell_type": "markdown",
   "metadata": {},
   "source": [
    "# Tratando datos\n",
    "## Lo primero es lo primero\n",
    "Limpiaremos nuestro directorios de ficheros no deseados"
   ]
  },
  {
   "cell_type": "code",
   "execution_count": 5,
   "metadata": {},
   "outputs": [],
   "source": [
    "if os.path.exists(\"data/idle/idle.csv\"):\n",
    "    os.remove(\"data/idle/idle.csv\")\n",
    "\n",
    "if os.path.exists(\"data/running/running.csv\"):\n",
    "    os.remove(\"data/running/running.csv\")\n",
    "\n",
    "if os.path.exists(\"data/stairs/stairs.csv\"):\n",
    "    os.remove(\"data/stairs/stairs.csv\")\n",
    "\n",
    "if os.path.exists(\"data/idle/idle.csv\"):\n",
    "    os.remove(\"data/idle/idle.csv\")\n",
    "\n",
    "if os.path.exists(\"data/walking/walking.csv\"):\n",
    "    os.remove(\"data/walking/walking.csv\")\n",
    "\n",
    "if os.path.exists(\"data/dataset.csv\"):\n",
    "    os.remove(\"data/dataset.csv\")"
   ]
  },
  {
   "cell_type": "markdown",
   "metadata": {},
   "source": [
    "## El unico\n",
    "Como esta dataset esta separado en varias carpeta lo que he decidido es por cada categoria crear un unico fichero donde se agrupe todo los datos de esta categoria"
   ]
  },
  {
   "cell_type": "code",
   "execution_count": 6,
   "metadata": {},
   "outputs": [],
   "source": [
    "all_files_idle = glob.glob(\"data/idle/*.csv\")\n",
    "all_files_running = glob.glob(\"data/running/*.csv\")\n",
    "all_files_stairs = glob.glob(\"data/stairs/*.csv\")\n",
    "all_files_walking = glob.glob(\"data/walking/*.csv\")\n",
    "\n",
    "df_from_each_file_idle = (pd.read_csv(f) for f in all_files_idle)\n",
    "df_from_each_file_running = (pd.read_csv(f) for f in all_files_running)\n",
    "df_from_each_file_stairs = (pd.read_csv(f) for f in all_files_stairs)\n",
    "df_from_each_file_walking = (pd.read_csv(f) for f in all_files_walking)\n",
    "\n",
    "pd.concat(df_from_each_file_idle, axis=0, ignore_index=True).to_csv(\"data/idle/idle.csv\", index=False)\n",
    "pd.concat(df_from_each_file_running, axis=0, ignore_index=True).to_csv(\"data/running/running.csv\", index=False)\n",
    "pd.concat(df_from_each_file_stairs, axis=0, ignore_index=True).to_csv(\"data/stairs/stairs.csv\", index=False)\n",
    "pd.concat(df_from_each_file_walking, axis=0, ignore_index=True).to_csv(\"data/walking/walking.csv\", index=False)"
   ]
  },
  {
   "cell_type": "markdown",
   "metadata": {},
   "source": [
    "Generamos nuestro dataset (los 4 ficheros convertidos a 1)"
   ]
  },
  {
   "cell_type": "code",
   "execution_count": null,
   "metadata": {},
   "outputs": [],
   "source": [
    "df1 = pd.read_csv(\"data/idle/idle.csv\")\n",
    "df2 = pd.read_csv(\"data/running/running.csv\")\n",
    "df3 = pd.read_csv(\"data/stairs/stairs.csv\")\n",
    "df4 = pd.read_csv(\"data/walking/walking.csv\")  \n",
    "pd.concat([df1, df2, df3, df4], axis=0, ignore_index=True).to_csv(\"data/dataset.csv\", index=False)"
   ]
  }
 ],
 "metadata": {
  "interpreter": {
   "hash": "c2162bde8eeb14dfd9c7742f3596c73464ca0724786709d14167b87db50c8fed"
  },
  "kernelspec": {
   "display_name": "Python 3.10.0 64-bit",
   "name": "python3"
  },
  "language_info": {
   "codemirror_mode": {
    "name": "ipython",
    "version": 3
   },
   "file_extension": ".py",
   "mimetype": "text/x-python",
   "name": "python",
   "nbconvert_exporter": "python",
   "pygments_lexer": "ipython3",
   "version": "3.10.0"
  },
  "orig_nbformat": 4
 },
 "nbformat": 4,
 "nbformat_minor": 2
}
